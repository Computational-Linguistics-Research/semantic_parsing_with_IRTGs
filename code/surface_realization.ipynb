{
 "cells": [
  {
   "cell_type": "code",
   "execution_count": 1,
   "metadata": {},
   "outputs": [],
   "source": [
    "from surface import grammar\n",
    "from surface import converter\n",
    "from collections import defaultdict"
   ]
  },
  {
   "cell_type": "code",
   "execution_count": 2,
   "metadata": {},
   "outputs": [],
   "source": [
    "def make_default_structure(graph_data, word_id):\n",
    "    if word_id not in graph_data:\n",
    "        graph_data[word_id] = {\n",
    "            \"word\": \"\",\n",
    "            \"deps\": {},\n",
    "        }"
   ]
  },
  {
   "cell_type": "code",
   "execution_count": 3,
   "metadata": {},
   "outputs": [],
   "source": [
    "def extract_rules(dev):\n",
    "    graph_data = {}\n",
    "    noun_list = []\n",
    "    id_to_rules = defaultdict(list)\n",
    "    id_to_sentence = {}\n",
    "    sentences = 0\n",
    "    with open(dev, \"r\") as f:\n",
    "        for i,line in enumerate(f):            \n",
    "            if line == \"\\n\":\n",
    "                words = []\n",
    "                for w in graph_data:\n",
    "                    words.append(graph_data[w][\"word\"])\n",
    "                    subgraphs = {\"root\": None, \"graph\": []}\n",
    "                    rules = []\n",
    "                    if \"tree_pos\" not in graph_data[w]:\n",
    "                        continue\n",
    "                    \n",
    "                    subgraphs[\"root\"] = graph_data[w][\"tree_pos\"]\n",
    "                    \n",
    "                    for dep in graph_data[w][\"deps\"]:                        \n",
    "                        edge_dep = graph_data[w][\"deps\"][dep]\n",
    "                        to_pos = graph_data[dep][\"tree_pos\"]\n",
    "                        mor = graph_data[dep][\"mor\"]\n",
    "                            \n",
    "                        if \"tree_pos\" in graph_data[w]:\n",
    "                            if \"lin=+\" in mor:\n",
    "                                subgraphs[\"graph\"].append({\"to\":to_pos, \"edge\":edge_dep, \"dir\":\"S\"})\n",
    "                            elif \"lin=-\" in mor:\n",
    "                                subgraphs[\"graph\"].append({\"to\":to_pos, \"edge\":edge_dep, \"dir\":\"B\"})\n",
    "                            else:\n",
    "                                subgraphs[\"graph\"].append({\"to\":to_pos, \"edge\":edge_dep, \"dir\":None})\n",
    "\n",
    "                            #if line_key_before not in grammar and line_key_after not in grammar:\n",
    "                            #    print(line_key_before)\n",
    "\n",
    "                    id_to_rules[sentences].append(subgraphs)\n",
    "                    id_to_sentence[sentences] = words\n",
    "                graph_data = {}\n",
    "                noun_list = []\n",
    "                sentences += 1\n",
    "                continue\n",
    "            if line.startswith(\"#\"):\n",
    "                continue\n",
    "            if line != \"\\n\":\n",
    "                fields = line.split(\"\\t\")\n",
    "                word_id = fields[0]\n",
    "                word = fields[1]\n",
    "                tree_pos = fields[3]\n",
    "                mor = fields[5]\n",
    "                head = fields[6]\n",
    "                ud_edge = fields[7]\n",
    "\n",
    "                make_default_structure(graph_data, word_id)\n",
    "                graph_data[word_id][\"word\"] = word\n",
    "                graph_data[word_id][\"tree_pos\"] = tree_pos\n",
    "                graph_data[word_id][\"mor\"] = mor\n",
    "\n",
    "                make_default_structure(graph_data, head)\n",
    "                graph_data[head][\"deps\"][word_id] = ud_edge\n",
    "    return id_to_rules, id_to_sentence"
   ]
  },
  {
   "cell_type": "code",
   "execution_count": 4,
   "metadata": {},
   "outputs": [],
   "source": [
    "GRAMMAR_FILE = \"../count_en_ewt-ud-train.conllu\"\n",
    "TERMINAL_FILE = \"../en_ewt-ud-dev.conllu\""
   ]
  },
  {
   "cell_type": "code",
   "execution_count": 52,
   "metadata": {},
   "outputs": [
    {
     "data": {
      "text/plain": [
       "['Buy', '', 'a', 'phone', 'new']"
      ]
     },
     "execution_count": 52,
     "metadata": {},
     "output_type": "execute_result"
    }
   ],
   "source": [
    "rules, sens = extract_rules(TERMINAL_FILE)\n",
    "sens[1163]"
   ]
  },
  {
   "cell_type": "code",
   "execution_count": 65,
   "metadata": {},
   "outputs": [],
   "source": [
    "%%capture cap --no-stderr\n",
    "grammar.generate_grammar(GRAMMAR_FILE, rules[1163])\n",
    "grammar.generate_terminals(TERMINAL_FILE)\n",
    "\n",
    "with open('dep_grammar_spec.irtg', 'w') as f:\n",
    "    f.write(cap.stdout)"
   ]
  },
  {
   "cell_type": "code",
   "execution_count": 58,
   "metadata": {},
   "outputs": [],
   "source": [
    "converter.convert(TERMINAL_FILE)"
   ]
  },
  {
   "cell_type": "code",
   "execution_count": null,
   "metadata": {},
   "outputs": [],
   "source": [
    "!java -Xmx8G -cp alto-2.3.1-all.jar de.up.ling.irtg.script.ParsingEvaluator graphs_100 -g dep_grammar_spec.irtg -I ud -O string=toString -o surface_eval_ewt"
   ]
  },
  {
   "cell_type": "code",
   "execution_count": null,
   "metadata": {},
   "outputs": [],
   "source": []
  }
 ],
 "metadata": {
  "kernelspec": {
   "display_name": "Python 3",
   "language": "python",
   "name": "python3"
  },
  "language_info": {
   "codemirror_mode": {
    "name": "ipython",
    "version": 3
   },
   "file_extension": ".py",
   "mimetype": "text/x-python",
   "name": "python",
   "nbconvert_exporter": "python",
   "pygments_lexer": "ipython3",
   "version": "3.7.1"
  }
 },
 "nbformat": 4,
 "nbformat_minor": 2
}
