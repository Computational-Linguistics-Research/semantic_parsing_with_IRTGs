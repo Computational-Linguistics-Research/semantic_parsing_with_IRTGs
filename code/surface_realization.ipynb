{
 "cells": [
  {
   "cell_type": "code",
   "execution_count": 1,
   "metadata": {},
   "outputs": [],
   "source": [
    "from surface import grammar;\n",
    "from surface import converter\n",
    "from collections import defaultdict\n",
    "import ast"
   ]
  },
  {
   "cell_type": "code",
   "execution_count": 2,
   "metadata": {},
   "outputs": [],
   "source": [
    "def get_parse(fn, conll):\n",
    "    with open(fn, \"r\") as f:\n",
    "        next(f)\n",
    "        conll_parse = {}\n",
    "        parse = next(f).strip()\n",
    "        text = [n.strip() for n in parse.strip(\"[]\").split(\",\")]\n",
    "        text_parse = []\n",
    "        for i, w_id in enumerate(text):\n",
    "            conll_parse[i] = conll[w_id.split(\"_\")[1]]\n",
    "            text_parse.append(conll[w_id.split(\"_\")[1]][1])\n",
    "        return text_parse, conll_parse"
   ]
  },
  {
   "cell_type": "code",
   "execution_count": 3,
   "metadata": {},
   "outputs": [],
   "source": [
    "def set_parse(fn, graph):\n",
    "    with open(fn, \"w+\") as f:\n",
    "        f.write(\"# IRTG unannotated corpus file, v1.0\\n\")\n",
    "        f.write(\"# interpretation ud: de.up.ling.irtg.algebra.graph.GraphAlgebra\\n\")\n",
    "        f.write(graph + \"\\n\")\n",
    "        f.write(\"(dummy_0 / dummy_0)\\n\")"
   ]
  },
  {
   "cell_type": "code",
   "execution_count": 4,
   "metadata": {},
   "outputs": [],
   "source": [
    "grammar.train(\"/home/adaamko/data/UD-train/en_ewt-ud-train.conllu\", \"/home/adaamko/data/T1-dev/en_ewt-ud-dev.conllu\")"
   ]
  },
  {
   "cell_type": "code",
   "execution_count": 5,
   "metadata": {},
   "outputs": [],
   "source": [
    "GRAMMAR_FILE = \"train_grammar\"\n",
    "TERMINAL_FILE_ORIG = \"../en_ewt-ud-dev-orig.conllu\"\n",
    "TERMINAL_FILE_MIXED = \"../en_ewt-ud-dev-mixed.conllu\""
   ]
  },
  {
   "cell_type": "code",
   "execution_count": 7,
   "metadata": {},
   "outputs": [],
   "source": [
    "rules, _ = converter.extract_rules(TERMINAL_FILE_MIXED)\n",
    "graphs, _, id_graphs= converter.convert(TERMINAL_FILE_ORIG)\n",
    "_, sentences, _ = converter.convert(TERMINAL_FILE_ORIG)\n",
    "conll = grammar.get_conll_from_file(TERMINAL_FILE_ORIG)"
   ]
  },
  {
   "cell_type": "code",
   "execution_count": null,
   "metadata": {},
   "outputs": [],
   "source": [
    "id_to_parse = {}\n",
    "for i in range(len(rules)):    \n",
    "    grammar_fn = open('dep_grammar_spec.irtg', 'w') \n",
    "    grammar.generate_grammar(GRAMMAR_FILE, rules[i], grammar_fn)\n",
    "    grammar.generate_terminals(TERMINAL_FILE_MIXED, grammar_fn)\n",
    "    grammar_fn.close()\n",
    "    set_parse(\"ewt_ones\", graphs[i])\n",
    "    !java -Xmx32G -cp alto-2.3.6-SNAPSHOT-all.jar de.up.ling.irtg.script.ParsingEvaluator ewt_ones -g dep_grammar_spec.irtg -I ud -O string=toString -o surface_eval_ewt\n",
    "    parse = get_parse(\"surface_eval_ewt\")\n",
    "    id_to_parse[i] = parse"
   ]
  },
  {
   "cell_type": "code",
   "execution_count": 13,
   "metadata": {},
   "outputs": [],
   "source": [
    "with open(\"result_parse\", \"w+\") as f:\n",
    "    for i in id_to_parse:\n",
    "        f.write(sentences[i] + \"\\n\")\n",
    "        f.write(graphs[i] + \"\\n\")\n",
    "        f.write(str(id_to_parse[i]) + \"\\n\")\n",
    "        f.write(\"\\n\")"
   ]
  },
  {
   "cell_type": "code",
   "execution_count": 8,
   "metadata": {},
   "outputs": [
    {
     "name": "stdout",
     "output_type": "stream",
     "text": [
      "Processing ewt_ones (2 instances) ...\n",
      "1 [[VERB_8/VERB_8 -advmod-> ADV_7/ADV_7; VERB_8 -aux-] 424 ms\n",
      "2 [[dummy_0/dummy_0]                                 ] 3 ms\n",
      "Done, total time: 489 ms\n"
     ]
    }
   ],
   "source": [
    "sen_id = 1623\n",
    "grammar_fn = open('dep_grammar_spec.irtg', 'w') \n",
    "grammar.generate_grammar(GRAMMAR_FILE, rules[sen_id], grammar_fn)\n",
    "grammar.generate_terminal_ids(conll[sen_id], grammar_fn)\n",
    "grammar_fn.close()\n",
    "set_parse(\"ewt_ones\", id_graphs[sen_id])\n",
    "!java -Xmx32G -cp alto-2.3.6-SNAPSHOT-all.jar de.up.ling.irtg.script.ParsingEvaluator ewt_ones -g dep_grammar_spec.irtg -I ud -O string=toString -o surface_eval_ewt\n",
    "text_parse, conll_parse = get_parse(\"surface_eval_ewt\", conll[sen_id])"
   ]
  },
  {
   "cell_type": "code",
   "execution_count": 9,
   "metadata": {},
   "outputs": [
    {
     "data": {
      "text/plain": [
       "'# text = Cécile is a hairdresser and has just moved into the neighbourhood.'"
      ]
     },
     "execution_count": 9,
     "metadata": {},
     "output_type": "execute_result"
    }
   ],
   "source": [
    "sentences[1623]"
   ]
  },
  {
   "cell_type": "code",
   "execution_count": null,
   "metadata": {},
   "outputs": [],
   "source": [
    "print(text_parse)\n",
    "print(conll_parse)"
   ]
  },
  {
   "cell_type": "code",
   "execution_count": null,
   "metadata": {},
   "outputs": [],
   "source": [
    "graphs[278]"
   ]
  },
  {
   "cell_type": "code",
   "execution_count": null,
   "metadata": {},
   "outputs": [],
   "source": [
    "id_graphs[1048]"
   ]
  },
  {
   "cell_type": "code",
   "execution_count": null,
   "metadata": {},
   "outputs": [],
   "source": [
    "conll[1048]"
   ]
  },
  {
   "cell_type": "code",
   "execution_count": null,
   "metadata": {},
   "outputs": [],
   "source": []
  }
 ],
 "metadata": {
  "kernelspec": {
   "display_name": "Python 3",
   "language": "python",
   "name": "python3"
  },
  "language_info": {
   "codemirror_mode": {
    "name": "ipython",
    "version": 3
   },
   "file_extension": ".py",
   "mimetype": "text/x-python",
   "name": "python",
   "nbconvert_exporter": "python",
   "pygments_lexer": "ipython3",
   "version": "3.5.2"
  }
 },
 "nbformat": 4,
 "nbformat_minor": 2
}
