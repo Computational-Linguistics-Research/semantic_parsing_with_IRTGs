{
 "cells": [
  {
   "cell_type": "code",
   "execution_count": 1,
   "metadata": {},
   "outputs": [],
   "source": [
    "from surface import grammar;\n",
    "from surface import converter\n",
    "from collections import defaultdict\n",
    "import ast"
   ]
  },
  {
   "cell_type": "code",
   "execution_count": 2,
   "metadata": {},
   "outputs": [],
   "source": [
    "def get_parse(fn, conll):\n",
    "    with open(fn, \"r\") as f:\n",
    "        next(f)\n",
    "        conll_parse = {}\n",
    "        parse = next(f).strip()\n",
    "        text = [n.strip() for n in parse.strip(\"[]\").split(\",\")]\n",
    "        text_parse = []\n",
    "        for i, w_id in enumerate(text):\n",
    "            conll_parse[i] = conll[w_id.split(\"_\")[1]]\n",
    "            text_parse.append(conll[w_id.split(\"_\")[1]][1])\n",
    "        return text_parse, conll_parse"
   ]
  },
  {
   "cell_type": "code",
   "execution_count": 3,
   "metadata": {},
   "outputs": [],
   "source": [
    "def set_parse(fn, graph):\n",
    "    with open(fn, \"w+\") as f:\n",
    "        f.write(\"# IRTG unannotated corpus file, v1.0\\n\")\n",
    "        f.write(\"# interpretation ud: de.up.ling.irtg.algebra.graph.GraphAlgebra\\n\")\n",
    "        f.write(graph + \"\\n\")\n",
    "        f.write(\"(dummy_0 / dummy_0)\\n\")"
   ]
  },
  {
   "cell_type": "code",
   "execution_count": 231,
   "metadata": {},
   "outputs": [],
   "source": [
    "TRAIN_FILE = \"/home/adaamko/data/UD-train/ru_syntagrus-ud-train.conllu\"\n",
    "TEST_FILE = \"/mnt/store/adaamko/srst2019/T1-test/ru_syntagrus-ud-test.conllu\""
   ]
  },
  {
   "cell_type": "code",
   "execution_count": 232,
   "metadata": {},
   "outputs": [],
   "source": [
    "grammar.train_subgraphs(TRAIN_FILE, TEST_FILE)\n",
    "grammar.train_edges(TRAIN_FILE, TEST_FILE)"
   ]
  },
  {
   "cell_type": "code",
   "execution_count": 233,
   "metadata": {},
   "outputs": [],
   "source": [
    "SUBGRAPH_GRAMMAR_FILE = \"train_subgraphs\"\n",
    "EDGE_GRAMMAR_FILE = \"train_edges\"\n",
    "TERMINAL_FILE_ORIG = TEST_FILE\n",
    "TERMINAL_FILE_MIXED = TEST_FILE"
   ]
  },
  {
   "cell_type": "code",
   "execution_count": 236,
   "metadata": {},
   "outputs": [],
   "source": [
    "rules, _ = converter.extract_rules(TERMINAL_FILE_MIXED)\n",
    "graphs, _, id_graphs= converter.convert(TERMINAL_FILE_MIXED)\n",
    "_, sentences, _ = converter.convert(TERMINAL_FILE_ORIG)\n",
    "conll = grammar.get_conll_from_file(TERMINAL_FILE_MIXED)\n",
    "id_to_parse = {}\n",
    "stops = []"
   ]
  },
  {
   "cell_type": "code",
   "execution_count": null,
   "metadata": {},
   "outputs": [],
   "source": [
    "for sen_id in range(1966, len(rules)):\n",
    "    print(sen_id)\n",
    "    try:\n",
    "        grammar_fn = open('dep_grammar_spec.irtg', 'w') \n",
    "        grammar.generate_grammar(SUBGRAPH_GRAMMAR_FILE, rules[sen_id], grammar_fn)\n",
    "        grammar.generate_terminal_ids(conll[sen_id], grammar_fn)\n",
    "        grammar_fn.close()\n",
    "        set_parse(\"ewt_ones\", id_graphs[sen_id])\n",
    "        !timeout 70 java -Xmx32G -cp alto-2.3.6-SNAPSHOT-all.jar de.up.ling.irtg.script.ParsingEvaluator ewt_ones -g dep_grammar_spec.irtg -I ud -O string=toString -o surface_eval_ewt\n",
    "        text_parse, conll_parse = get_parse(\"surface_eval_ewt\", conll[sen_id])\n",
    "        id_to_parse[sen_id] = (text_parse, conll_parse)\n",
    "    except StopIteration:\n",
    "        print(\"stop iteratioin\")\n",
    "        stops.append(sen_id)\n",
    "        continue"
   ]
  },
  {
   "cell_type": "code",
   "execution_count": 13,
   "metadata": {},
   "outputs": [],
   "source": [
    "with open(\"result_parse\", \"w+\") as f:\n",
    "    for i in id_to_parse:\n",
    "        f.write(sentences[i] + \"\\n\")\n",
    "        f.write(graphs[i] + \"\\n\")\n",
    "        f.write(str(id_to_parse[i]) + \"\\n\")\n",
    "        f.write(\"\\n\")"
   ]
  },
  {
   "cell_type": "code",
   "execution_count": null,
   "metadata": {},
   "outputs": [],
   "source": [
    "for sen_id in stops:\n",
    "    grammar_fn = open('dep_grammar_edges.irtg', 'w') \n",
    "    grammar.generate_grammar(EDGE_GRAMMAR_FILE, rules[sen_id], grammar_fn)\n",
    "    grammar.generate_terminal_ids(conll[sen_id], grammar_fn)\n",
    "    grammar_fn.close()\n",
    "    set_parse(\"ewt_ones\", id_graphs[sen_id])\n",
    "    !java -Xmx32G -cp alto-2.3.6-SNAPSHOT-all.jar de.up.ling.irtg.script.ParsingEvaluator ewt_ones -g dep_grammar_edges.irtg -I ud -O string=toString -o surface_eval_ewt\n",
    "    text_parse, conll_parse = get_parse(\"surface_eval_ewt\", conll[sen_id])\n",
    "    id_to_parse[sen_id] = (text_parse, conll_parse)"
   ]
  },
  {
   "cell_type": "code",
   "execution_count": 129,
   "metadata": {},
   "outputs": [
    {
     "data": {
      "text/plain": [
       "0"
      ]
     },
     "execution_count": 129,
     "metadata": {},
     "output_type": "execute_result"
    }
   ],
   "source": [
    "len(sentences)"
   ]
  },
  {
   "cell_type": "code",
   "execution_count": null,
   "metadata": {},
   "outputs": [],
   "source": [
    "print(text_parse)\n",
    "print(conll_parse)"
   ]
  },
  {
   "cell_type": "code",
   "execution_count": null,
   "metadata": {},
   "outputs": [],
   "source": [
    "graphs[sen_id]"
   ]
  },
  {
   "cell_type": "code",
   "execution_count": null,
   "metadata": {},
   "outputs": [],
   "source": [
    "id_to_parse[254]"
   ]
  },
  {
   "cell_type": "code",
   "execution_count": null,
   "metadata": {},
   "outputs": [],
   "source": [
    "rules[sen_id]"
   ]
  },
  {
   "cell_type": "code",
   "execution_count": null,
   "metadata": {},
   "outputs": [],
   "source": [
    "!java -Xmx32G -cp alto-2.3.6-SNAPSHOT-all.jar de.up.ling.irtg.script.ParsingEvaluator ewt_ones -g binarized.irtg -I ud -O string=toString -o surface_eval_ewt"
   ]
  },
  {
   "cell_type": "code",
   "execution_count": 125,
   "metadata": {},
   "outputs": [],
   "source": [
    "text_parse, conll_parse = get_parse(\"surface_eval_ewt\", conll[sen_id])"
   ]
  },
  {
   "cell_type": "code",
   "execution_count": 42,
   "metadata": {},
   "outputs": [],
   "source": [
    "id_to_parse[sen_id] = (text_parse, conll_parse)"
   ]
  },
  {
   "cell_type": "code",
   "execution_count": 243,
   "metadata": {},
   "outputs": [
    {
     "data": {
      "text/plain": [
       "1966"
      ]
     },
     "execution_count": 243,
     "metadata": {},
     "output_type": "execute_result"
    }
   ],
   "source": [
    "sen_id"
   ]
  },
  {
   "cell_type": "code",
   "execution_count": 174,
   "metadata": {},
   "outputs": [],
   "source": [
    "id_to_parse[sen_id] = (\"\", conll[sen_id])"
   ]
  },
  {
   "cell_type": "code",
   "execution_count": 240,
   "metadata": {},
   "outputs": [
    {
     "data": {
      "text/plain": [
       "6491"
      ]
     },
     "execution_count": 240,
     "metadata": {},
     "output_type": "execute_result"
    }
   ],
   "source": [
    "len(graphs)"
   ]
  },
  {
   "cell_type": "code",
   "execution_count": 230,
   "metadata": {},
   "outputs": [],
   "source": [
    "with open(\"/mnt/store/adaamko/srst2019/test-results/hi_hdtb-ud-test.conllu\" , \"w\") as f:\n",
    "    for i in id_to_parse:\n",
    "        conll_f = id_to_parse[i][1]\n",
    "        for line in conll_f:\n",
    "            f.write(str(line) + \"\\t\")\n",
    "            f.write(\"\\t\".join(conll_f[line]))\n",
    "        f.write(\"\\n\")"
   ]
  },
  {
   "cell_type": "code",
   "execution_count": 241,
   "metadata": {},
   "outputs": [
    {
     "data": {
      "text/plain": [
       "1811"
      ]
     },
     "execution_count": 241,
     "metadata": {},
     "output_type": "execute_result"
    }
   ],
   "source": [
    "sen_id"
   ]
  },
  {
   "cell_type": "code",
   "execution_count": null,
   "metadata": {},
   "outputs": [],
   "source": [
    "converter.to_tokenized_output(\"/mnt/permanent/home/judit/data/SRST/en_dev/\", \"/mnt/store/adaamko/srst2019/dev-results/\")\n",
    "converter.to_tokenized_output(\"/home/adaamko/data/UD-dev/\", \"/mnt/store/adaamko/srst2019/dev-golds/\")"
   ]
  },
  {
   "cell_type": "code",
   "execution_count": 2,
   "metadata": {},
   "outputs": [],
   "source": [
    "converter.to_tokenized_output(\"/home/adaamko/data/UD-dev/\", \"/mnt/store/adaamko/srst2019/dev-golds/\")"
   ]
  },
  {
   "cell_type": "code",
   "execution_count": 3,
   "metadata": {},
   "outputs": [],
   "source": [
    "converter.to_tokenized_output(\"/mnt/permanent/home/judit/data/SRST/en_dev/\", \"/mnt/store/adaamko/srst2019/dev-results/\")\n"
   ]
  },
  {
   "cell_type": "code",
   "execution_count": null,
   "metadata": {},
   "outputs": [],
   "source": [
    "stops"
   ]
  },
  {
   "cell_type": "code",
   "execution_count": 227,
   "metadata": {},
   "outputs": [
    {
     "data": {
      "text/plain": [
       "59"
      ]
     },
     "execution_count": 227,
     "metadata": {},
     "output_type": "execute_result"
    }
   ],
   "source": [
    "len(stops)"
   ]
  },
  {
   "cell_type": "code",
   "execution_count": 229,
   "metadata": {},
   "outputs": [
    {
     "data": {
      "text/plain": [
       "1684"
      ]
     },
     "execution_count": 229,
     "metadata": {},
     "output_type": "execute_result"
    }
   ],
   "source": [
    "len(id_to_parse)"
   ]
  },
  {
   "cell_type": "code",
   "execution_count": null,
   "metadata": {},
   "outputs": [],
   "source": []
  }
 ],
 "metadata": {
  "kernelspec": {
   "display_name": "Python 3",
   "language": "python",
   "name": "python3"
  },
  "language_info": {
   "codemirror_mode": {
    "name": "ipython",
    "version": 3
   },
   "file_extension": ".py",
   "mimetype": "text/x-python",
   "name": "python",
   "nbconvert_exporter": "python",
   "pygments_lexer": "ipython3",
   "version": "3.5.2"
  }
 },
 "nbformat": 4,
 "nbformat_minor": 2
}
