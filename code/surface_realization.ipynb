{
 "cells": [
  {
   "cell_type": "code",
   "execution_count": 1,
   "metadata": {},
   "outputs": [],
   "source": [
    "from surface import grammar\n",
    "from surface import converter\n",
    "from collections import defaultdict\n",
    "import ast"
   ]
  },
  {
   "cell_type": "code",
   "execution_count": 2,
   "metadata": {},
   "outputs": [],
   "source": [
    "def make_default_structure(graph_data, word_id):\n",
    "    if word_id not in graph_data:\n",
    "        graph_data[word_id] = {\n",
    "            \"word\": \"\",\n",
    "            \"deps\": {},\n",
    "        }"
   ]
  },
  {
   "cell_type": "code",
   "execution_count": 3,
   "metadata": {},
   "outputs": [],
   "source": [
    "def get_parse(fn):\n",
    "    with open(fn, \"r\") as f:\n",
    "        next(f)\n",
    "        parse = next(f).strip()\n",
    "        return [n.strip() for n in parse.strip(\"[]\").split(\",\")]"
   ]
  },
  {
   "cell_type": "code",
   "execution_count": 4,
   "metadata": {},
   "outputs": [],
   "source": [
    "def set_parse(fn, graph):\n",
    "    with open(fn, \"w+\") as f:\n",
    "        f.write(\"# IRTG unannotated corpus file, v1.0\\n\")\n",
    "        f.write(\"# interpretation ud: de.up.ling.irtg.algebra.graph.GraphAlgebra\\n\")\n",
    "        f.write(graph + \"\\n\")\n",
    "        f.write(\"(dummy_0 / dummy_0)\\n\")"
   ]
  },
  {
   "cell_type": "code",
   "execution_count": 5,
   "metadata": {},
   "outputs": [],
   "source": [
    "def extract_rules(dev):\n",
    "    graph_data = {}\n",
    "    noun_list = []\n",
    "    id_to_rules = defaultdict(list)\n",
    "    id_to_sentence = {}\n",
    "    sentences = 0\n",
    "    with open(dev, \"r\") as f:\n",
    "        for i,line in enumerate(f):            \n",
    "            if line == \"\\n\":\n",
    "                words = []\n",
    "                for w in graph_data:\n",
    "                    words.append(graph_data[w][\"word\"])\n",
    "                    subgraphs = {\"root\": None, \"graph\": []}\n",
    "                    rules = []\n",
    "                    if \"tree_pos\" not in graph_data[w]:\n",
    "                        continue\n",
    "                    \n",
    "                    subgraphs[\"root\"] = graph_data[w][\"tree_pos\"]\n",
    "                    \n",
    "                    for dep in graph_data[w][\"deps\"]:                        \n",
    "                        edge_dep = graph_data[w][\"deps\"][dep]\n",
    "                        to_pos = graph_data[dep][\"tree_pos\"]\n",
    "                        mor = graph_data[dep][\"mor\"]\n",
    "                            \n",
    "                        if \"tree_pos\" in graph_data[w]:\n",
    "                            if \"lin=+\" in mor:\n",
    "                                subgraphs[\"graph\"].append({\"to\":to_pos, \"edge\":edge_dep.replace(\":\", \"_\"), \"dir\":\"S\"})\n",
    "                            elif \"lin=-\" in mor:\n",
    "                                subgraphs[\"graph\"].append({\"to\":to_pos, \"edge\":edge_dep.replace(\":\", \"_\"), \"dir\":\"B\"})\n",
    "                            else:\n",
    "                                subgraphs[\"graph\"].append({\"to\":to_pos, \"edge\":edge_dep.replace(\":\", \"_\"), \"dir\":None})\n",
    "\n",
    "                    id_to_rules[sentences].append(subgraphs)\n",
    "                graph_data = {}\n",
    "                noun_list = []\n",
    "                sentences += 1\n",
    "                continue\n",
    "            if line.startswith(\"# text\"):\n",
    "                id_to_sentence[sentences] = line.strip()\n",
    "            if line.startswith(\"#\"):\n",
    "                continue\n",
    "            if line != \"\\n\":\n",
    "                fields = line.split(\"\\t\")\n",
    "                word_id = fields[0]\n",
    "                word = fields[1]\n",
    "                tree_pos = fields[3]\n",
    "                mor = fields[5]\n",
    "                head = fields[6]\n",
    "                ud_edge = fields[7]\n",
    "\n",
    "                make_default_structure(graph_data, word_id)\n",
    "                graph_data[word_id][\"word\"] = word\n",
    "                graph_data[word_id][\"tree_pos\"] = tree_pos\n",
    "                graph_data[word_id][\"mor\"] = mor\n",
    "\n",
    "                make_default_structure(graph_data, head)\n",
    "                graph_data[head][\"deps\"][word_id] = ud_edge\n",
    "    return id_to_rules, id_to_sentence"
   ]
  },
  {
   "cell_type": "code",
   "execution_count": 6,
   "metadata": {},
   "outputs": [],
   "source": [
    "GRAMMAR_FILE = \"../count_en_ewt-ud-train.conllu\"\n",
    "TERMINAL_FILE_ORIG = \"../en_ewt-ud-dev-orig.conllu\"\n",
    "TERMINAL_FILE_MIXED = \"../en_ewt-ud-dev-mixed.conllu\""
   ]
  },
  {
   "cell_type": "code",
   "execution_count": 7,
   "metadata": {},
   "outputs": [],
   "source": [
    "rules, _ = extract_rules(TERMINAL_FILE_MIXED)\n",
    "graphs, _ = converter.convert(TERMINAL_FILE_MIXED)\n",
    "_, sentences = converter.convert(TERMINAL_FILE_ORIG)"
   ]
  },
  {
   "cell_type": "code",
   "execution_count": 8,
   "metadata": {},
   "outputs": [
    {
     "ename": "KeyError",
     "evalue": "'edge'",
     "output_type": "error",
     "traceback": [
      "\u001b[0;31m---------------------------------------------------------------------------\u001b[0m",
      "\u001b[0;31mKeyError\u001b[0m                                  Traceback (most recent call last)",
      "\u001b[0;32m<ipython-input-8-a2ab4bae7123>\u001b[0m in \u001b[0;36m<module>\u001b[0;34m\u001b[0m\n\u001b[1;32m      2\u001b[0m \u001b[0;32mfor\u001b[0m \u001b[0mi\u001b[0m \u001b[0;32min\u001b[0m \u001b[0mrange\u001b[0m\u001b[0;34m(\u001b[0m\u001b[0mlen\u001b[0m\u001b[0;34m(\u001b[0m\u001b[0mrules\u001b[0m\u001b[0;34m)\u001b[0m\u001b[0;34m)\u001b[0m\u001b[0;34m:\u001b[0m\u001b[0;34m\u001b[0m\u001b[0m\n\u001b[1;32m      3\u001b[0m     \u001b[0mgrammar_fn\u001b[0m \u001b[0;34m=\u001b[0m \u001b[0mopen\u001b[0m\u001b[0;34m(\u001b[0m\u001b[0;34m'dep_grammar_spec.irtg'\u001b[0m\u001b[0;34m,\u001b[0m \u001b[0;34m'w'\u001b[0m\u001b[0;34m)\u001b[0m\u001b[0;34m\u001b[0m\u001b[0m\n\u001b[0;32m----> 4\u001b[0;31m     \u001b[0mgrammar\u001b[0m\u001b[0;34m.\u001b[0m\u001b[0mgenerate_grammar\u001b[0m\u001b[0;34m(\u001b[0m\u001b[0mGRAMMAR_FILE\u001b[0m\u001b[0;34m,\u001b[0m \u001b[0mrules\u001b[0m\u001b[0;34m[\u001b[0m\u001b[0mi\u001b[0m\u001b[0;34m]\u001b[0m\u001b[0;34m,\u001b[0m \u001b[0mgrammar_fn\u001b[0m\u001b[0;34m)\u001b[0m\u001b[0;34m\u001b[0m\u001b[0m\n\u001b[0m\u001b[1;32m      5\u001b[0m     \u001b[0mgrammar\u001b[0m\u001b[0;34m.\u001b[0m\u001b[0mgenerate_terminals\u001b[0m\u001b[0;34m(\u001b[0m\u001b[0mTERMINAL_FILE\u001b[0m\u001b[0;34m,\u001b[0m \u001b[0mgrammar_fn\u001b[0m\u001b[0;34m)\u001b[0m\u001b[0;34m\u001b[0m\u001b[0m\n\u001b[1;32m      6\u001b[0m     \u001b[0mgrammar_fn\u001b[0m\u001b[0;34m.\u001b[0m\u001b[0mclose\u001b[0m\u001b[0;34m(\u001b[0m\u001b[0;34m)\u001b[0m\u001b[0;34m\u001b[0m\u001b[0m\n",
      "\u001b[0;32m~/projects/semantic_parsing_with_IRTGs/code/surface/grammar.py\u001b[0m in \u001b[0;36mgenerate_grammar\u001b[0;34m(fn, rules, grammar_fn)\u001b[0m\n\u001b[1;32m    113\u001b[0m                 \u001b[0mfreq_sums\u001b[0m\u001b[0;34m,\u001b[0m\u001b[0;34m\u001b[0m\u001b[0m\n\u001b[1;32m    114\u001b[0m                 \u001b[0mrules\u001b[0m\u001b[0;34m,\u001b[0m\u001b[0;34m\u001b[0m\u001b[0m\n\u001b[0;32m--> 115\u001b[0;31m                 grammar_fn)\n\u001b[0m\u001b[1;32m    116\u001b[0m \u001b[0;34m\u001b[0m\u001b[0m\n\u001b[1;32m    117\u001b[0m     \u001b[0mprint_start_rule\u001b[0m\u001b[0;34m(\u001b[0m\u001b[0mstart_rule_set\u001b[0m\u001b[0;34m,\u001b[0m \u001b[0mgrammar_fn\u001b[0m\u001b[0;34m)\u001b[0m\u001b[0;34m\u001b[0m\u001b[0m\n",
      "\u001b[0;32m~/projects/semantic_parsing_with_IRTGs/code/surface/grammar.py\u001b[0m in \u001b[0;36mprint_rules_constraint\u001b[0;34m(h, d_before, d_after, counter, frequency, freq_sums, rules, grammar_fn)\u001b[0m\n\u001b[1;32m    254\u001b[0m                 \u001b[0;32mif\u001b[0m \u001b[0mrule\u001b[0m\u001b[0;34m[\u001b[0m\u001b[0;34m\"dir\"\u001b[0m\u001b[0;34m]\u001b[0m \u001b[0;34m==\u001b[0m \u001b[0;34m\"S\"\u001b[0m\u001b[0;34m:\u001b[0m\u001b[0;34m\u001b[0m\u001b[0m\n\u001b[1;32m    255\u001b[0m                      \u001b[0;32mfor\u001b[0m \u001b[0mind\u001b[0m\u001b[0;34m,\u001b[0m \u001b[0mn\u001b[0m \u001b[0;32min\u001b[0m \u001b[0menumerate\u001b[0m\u001b[0;34m(\u001b[0m\u001b[0mafter_nodes\u001b[0m\u001b[0;34m)\u001b[0m\u001b[0;34m:\u001b[0m\u001b[0;34m\u001b[0m\u001b[0m\n\u001b[0;32m--> 256\u001b[0;31m                         \u001b[0;32mif\u001b[0m \u001b[0mn\u001b[0m \u001b[0;34m==\u001b[0m \u001b[0mrule\u001b[0m\u001b[0;34m[\u001b[0m\u001b[0;34m\"to\"\u001b[0m\u001b[0;34m]\u001b[0m \u001b[0;32mand\u001b[0m \u001b[0mafter_edges\u001b[0m\u001b[0;34m[\u001b[0m\u001b[0mind\u001b[0m\u001b[0;34m]\u001b[0m \u001b[0;34m==\u001b[0m \u001b[0mrule\u001b[0m\u001b[0;34m[\u001b[0m\u001b[0;34m'edge'\u001b[0m\u001b[0;34m]\u001b[0m\u001b[0;34m:\u001b[0m\u001b[0;34m\u001b[0m\u001b[0m\n\u001b[0m\u001b[1;32m    257\u001b[0m                             \u001b[0mdrop\u001b[0m \u001b[0;34m=\u001b[0m \u001b[0;32mFalse\u001b[0m\u001b[0;34m\u001b[0m\u001b[0m\n\u001b[1;32m    258\u001b[0m     \u001b[0;32mif\u001b[0m \u001b[0;32mnot\u001b[0m \u001b[0mfound\u001b[0m\u001b[0;34m:\u001b[0m\u001b[0;34m\u001b[0m\u001b[0m\n",
      "\u001b[0;31mKeyError\u001b[0m: 'edge'"
     ]
    }
   ],
   "source": [
    "id_to_parse = {}\n",
    "for i in range(len(rules)):    \n",
    "    grammar_fn = open('dep_grammar_spec.irtg', 'w') \n",
    "    grammar.generate_grammar(GRAMMAR_FILE, rules[i], grammar_fn)\n",
    "    grammar.generate_terminals(TERMINAL_FILE_MIXED, grammar_fn)\n",
    "    grammar_fn.close()\n",
    "    set_parse(\"ewt_ones\", graphs[i])\n",
    "    !java -Xmx32G -cp /home/kovacs/projects/alto/build/libs/alto-2.3.6-SNAPSHOT-all.jar de.up.ling.irtg.script.ParsingEvaluator ewt_ones -g dep_grammar_spec.irtg -I ud -O string=toString -o surface_eval_ewt\n",
    "    parse = get_parse(\"surface_eval_ewt\")\n",
    "    id_to_parse[i] = parse"
   ]
  },
  {
   "cell_type": "code",
   "execution_count": 9,
   "metadata": {},
   "outputs": [],
   "source": [
    "with open(\"result_parse\", \"w\") as f:\n",
    "    for i in id_to_parse:\n",
    "        f.write(sentences[i] + \"\\n\")\n",
    "        f.write(graphs[i] + \"\\n\")\n",
    "        f.write(str(id_to_parse[i]) + \"\\n\")\n",
    "        f.write(\"\\n\")"
   ]
  },
  {
   "cell_type": "code",
   "execution_count": null,
   "metadata": {},
   "outputs": [],
   "source": [
    "grammar_fn = open('dep_grammar_spec.irtg', 'w') \n",
    "grammar.generate_grammar(GRAMMAR_FILE, rules[39], grammar_fn)\n",
    "grammar.generate_terminals(TERMINAL_FILE, grammar_fn)\n",
    "grammar_fn.close()"
   ]
  },
  {
   "cell_type": "code",
   "execution_count": 9,
   "metadata": {},
   "outputs": [
    {
     "data": {
      "text/plain": [
       "[{'graph': [{'dir': 'S', 'edge': 'punct', 'to': 'PUNCT'},\n",
       "   {'dir': None, 'edge': 'nsubj', 'to': 'NOUN'},\n",
       "   {'dir': None, 'edge': 'obl', 'to': 'PROPN'}],\n",
       "  'root': 'VERB'},\n",
       " {'graph': [], 'root': 'DET'},\n",
       " {'graph': [], 'root': 'ADP'},\n",
       " {'graph': [{'dir': None, 'edge': 'case', 'to': 'ADP'},\n",
       "   {'dir': None, 'edge': 'det', 'to': 'DET'}],\n",
       "  'root': 'PROPN'},\n",
       " {'graph': [], 'root': 'DET'},\n",
       " {'graph': [], 'root': 'PUNCT'},\n",
       " {'graph': [{'dir': None, 'edge': 'det', 'to': 'DET'}], 'root': 'NOUN'}]"
      ]
     },
     "execution_count": 9,
     "metadata": {},
     "output_type": "execute_result"
    }
   ],
   "source": [
    "rules[0]"
   ]
  },
  {
   "cell_type": "code",
   "execution_count": null,
   "metadata": {},
   "outputs": [],
   "source": []
  }
 ],
 "metadata": {
  "kernelspec": {
   "display_name": "Python 3",
   "language": "python",
   "name": "python3"
  },
  "language_info": {
   "codemirror_mode": {
    "name": "ipython",
    "version": 3
   },
   "file_extension": ".py",
   "mimetype": "text/x-python",
   "name": "python",
   "nbconvert_exporter": "python",
   "pygments_lexer": "ipython3",
   "version": "3.5.2"
  }
 },
 "nbformat": 4,
 "nbformat_minor": 2
}
