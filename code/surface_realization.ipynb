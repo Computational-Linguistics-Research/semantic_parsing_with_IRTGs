{
 "cells": [
  {
   "cell_type": "code",
   "execution_count": 1,
   "metadata": {},
   "outputs": [],
   "source": [
    "from surface import grammar\n",
    "from surface import converter"
   ]
  },
  {
   "cell_type": "code",
   "execution_count": 2,
   "metadata": {},
   "outputs": [],
   "source": [
    "GRAMMAR_FILE = \"../count_en_ewt-ud-train.conllu\"\n",
    "TERMINAL_FILE = \"../en_ewt-ud-dev.conllu\""
   ]
  },
  {
   "cell_type": "code",
   "execution_count": 4,
   "metadata": {},
   "outputs": [],
   "source": [
    "%%capture cap --no-stderr\n",
    "grammar.generate_grammar(GRAMMAR_FILE)\n",
    "grammar.generate_terminals(TERMINAL_FILE)\n",
    "\n",
    "with open('dep_grammar.irtg', 'w') as f:\n",
    "    f.write(cap.stdout)"
   ]
  },
  {
   "cell_type": "code",
   "execution_count": 3,
   "metadata": {},
   "outputs": [],
   "source": [
    "converter.convert(TERMINAL_FILE)"
   ]
  },
  {
   "cell_type": "code",
   "execution_count": 6,
   "metadata": {},
   "outputs": [
    {
     "name": "stdout",
     "output_type": "stream",
     "text": [
      "Processing graphs_100 (51 instances) ...\n",
      "01 [[deserved/deserved -nsubj-> He/He; deserved -obj->] 3.251s\n",
      "02 [[have/have -nsubj-> Anyone/Anyone; recipe/recipe -] 8.958s\n",
      "03 [[arabes/arabes -case-> about/about; arabes -compou] 5.349s\n",
      "04 [[Yes/Yes -punct-> PERIOD/PERIOD]                  ] 209 ms\n",
      "05 [[here/here -advmod-> Here/Here; here -nsubj-> it/i] 3.341s\n",
      "06 [[cup/cup -nummod-> DIGIT/DIGIT; empanadas/empanada] 1.560s\n",
      "07 [[cup/cup -nummod-> DIGIT/DIGIT; arabes/arabes -cas] 1.394s\n",
      "08 [[cup/cup -nummod-> DIGIT/DIGIT; empanadas/empanada] 1.816s\n",
      "09 [[cup/cup -nummod-> DIGIT/DIGIT; area/area -case-> ] 1.991s\n",
      "10 [[IT/IT -det-> ALL/ALL; MIX/MIX -obj-> IT; MIX -com] 1.179s\n",
      "11 [[POOP/POOP -advmod-> THEN/THEN; IT/IT -case-> IN/I] 1.098s\n",
      "12 [[End/End -det-> The/The]                          ] 626 ms\n",
      "13 [[SQs/SQs -nsubj-> It/It; cooking/cooking -advmod->] 4.621s\n",
      "14 [[sent/sent -nsubj-> I/I; phone/phone -det-> a/a; s] 5.385s\n",
      "15 [[sold/sold -nsubj_pass-> I/I; sold -aux_pass-> was] 7.671s\n",
      "16 [[phone/phone -det-> a/a; phone -amod-> new/new; Bu] 1.750s\n",
      "17 [[call/call -nsubj-> they/they; call -aux-> do/do; ] 9.025s\n",
      "18 [[illegal/illegal -expl-> it/it; illegal -cop-> s/s] 8.447s\n",
      "19 [[watch/watch -discourse-> Erm/Erm; watch -discours] ^C\n"
     ]
    }
   ],
   "source": [
    "!java -Xmx8G -cp alto-2.3.1-all.jar de.up.ling.irtg.script.ParsingEvaluator graphs_100 -g dep_grammar.irtg -I ud -O string=toString -o surface_eval_ewt"
   ]
  },
  {
   "cell_type": "code",
   "execution_count": null,
   "metadata": {},
   "outputs": [],
   "source": []
  }
 ],
 "metadata": {
  "kernelspec": {
   "display_name": "Python 3",
   "language": "python",
   "name": "python3"
  },
  "language_info": {
   "codemirror_mode": {
    "name": "ipython",
    "version": 3
   },
   "file_extension": ".py",
   "mimetype": "text/x-python",
   "name": "python",
   "nbconvert_exporter": "python",
   "pygments_lexer": "ipython3",
   "version": "3.7.1"
  }
 },
 "nbformat": 4,
 "nbformat_minor": 2
}
