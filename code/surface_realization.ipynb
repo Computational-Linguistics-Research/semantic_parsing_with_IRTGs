{
 "cells": [
  {
   "cell_type": "code",
   "execution_count": 1,
   "metadata": {},
   "outputs": [],
   "source": [
    "from surface import grammar\n",
    "from surface import converter\n",
    "from collections import defaultdict\n",
    "import ast"
   ]
  },
  {
   "cell_type": "code",
   "execution_count": 2,
   "metadata": {},
   "outputs": [],
   "source": [
    "def make_default_structure(graph_data, word_id):\n",
    "    if word_id not in graph_data:\n",
    "        graph_data[word_id] = {\n",
    "            \"word\": \"\",\n",
    "            \"deps\": {},\n",
    "        }"
   ]
  },
  {
   "cell_type": "code",
   "execution_count": 3,
   "metadata": {},
   "outputs": [],
   "source": [
    "def get_parse(fn):\n",
    "    with open(fn, \"r\") as f:\n",
    "        next(f)\n",
    "        parse = next(f).strip()\n",
    "        return [n.strip() for n in parse.strip(\"[]\").split(\",\")]"
   ]
  },
  {
   "cell_type": "code",
   "execution_count": 4,
   "metadata": {},
   "outputs": [],
   "source": [
    "def set_parse(fn, graph):\n",
    "    with open(fn, \"w+\") as f:\n",
    "        f.write(\"# IRTG unannotated corpus file, v1.0\\n\")\n",
    "        f.write(\"# interpretation ud: de.up.ling.irtg.algebra.graph.GraphAlgebra\\n\")\n",
    "        f.write(graph + \"\\n\")\n",
    "        f.write(\"(dummy_0 / dummy_0)\\n\")"
   ]
  },
  {
   "cell_type": "code",
   "execution_count": 5,
   "metadata": {},
   "outputs": [],
   "source": [
    "def extract_rules(dev):\n",
    "    graph_data = {}\n",
    "    noun_list = []\n",
    "    id_to_rules = defaultdict(list)\n",
    "    id_to_sentence = {}\n",
    "    sentences = 0\n",
    "    with open(dev, \"r\") as f:\n",
    "        for i,line in enumerate(f):            \n",
    "            if line == \"\\n\":\n",
    "                words = []\n",
    "                for w in graph_data:\n",
    "                    words.append(graph_data[w][\"word\"])\n",
    "                    subgraphs = {\"root\": None, \"graph\": []}\n",
    "                    rules = []\n",
    "                    if \"tree_pos\" not in graph_data[w]:\n",
    "                        continue\n",
    "                    \n",
    "                    subgraphs[\"root\"] = graph_data[w][\"tree_pos\"]\n",
    "                    \n",
    "                    for dep in graph_data[w][\"deps\"]:                        \n",
    "                        edge_dep = graph_data[w][\"deps\"][dep]\n",
    "                        to_pos = graph_data[dep][\"tree_pos\"]\n",
    "                        mor = graph_data[dep][\"mor\"]\n",
    "                            \n",
    "                        if \"tree_pos\" in graph_data[w]:\n",
    "                            if \"lin=+\" in mor:\n",
    "                                subgraphs[\"graph\"].append({\"to\":to_pos, \"edge\":edge_dep.replace(\":\", \"_\"), \"dir\":\"S\"})\n",
    "                            elif \"lin=-\" in mor:\n",
    "                                subgraphs[\"graph\"].append({\"to\":to_pos, \"edge\":edge_dep.replace(\":\", \"_\"), \"dir\":\"B\"})\n",
    "                            else:\n",
    "                                subgraphs[\"graph\"].append({\"to\":to_pos, \"edge\":edge_dep.replace(\":\", \"_\"), \"dir\":None})\n",
    "\n",
    "                    id_to_rules[sentences].append(subgraphs)\n",
    "                graph_data = {}\n",
    "                noun_list = []\n",
    "                sentences += 1\n",
    "                continue\n",
    "            if line.startswith(\"# text\"):\n",
    "                id_to_sentence[sentences] = line.strip()\n",
    "            if line.startswith(\"#\"):\n",
    "                continue\n",
    "            if line != \"\\n\":\n",
    "                fields = line.split(\"\\t\")\n",
    "                word_id = fields[0]\n",
    "                word = fields[1]\n",
    "                tree_pos = fields[3]\n",
    "                mor = fields[5]\n",
    "                head = fields[6]\n",
    "                ud_edge = fields[7]\n",
    "\n",
    "                make_default_structure(graph_data, word_id)\n",
    "                graph_data[word_id][\"word\"] = word\n",
    "                graph_data[word_id][\"tree_pos\"] = tree_pos\n",
    "                graph_data[word_id][\"mor\"] = mor\n",
    "\n",
    "                make_default_structure(graph_data, head)\n",
    "                graph_data[head][\"deps\"][word_id] = ud_edge\n",
    "    return id_to_rules, id_to_sentence"
   ]
  },
  {
   "cell_type": "code",
   "execution_count": 6,
   "metadata": {},
   "outputs": [],
   "source": [
    "GRAMMAR_FILE = \"../count_en_ewt-ud-train.conllu\"\n",
    "TERMINAL_FILE_ORIG = \"../en_ewt-ud-dev-orig.conllu\"\n",
    "TERMINAL_FILE_MIXED = \"../en_ewt-ud-dev-mixed.conllu\""
   ]
  },
  {
   "cell_type": "code",
   "execution_count": 8,
   "metadata": {},
   "outputs": [],
   "source": [
    "rules, _ = extract_rules(TERMINAL_FILE_MIXED)\n",
    "graphs, _ = converter.convert(TERMINAL_FILE_MIXED)\n",
    "_, sentences = converter.convert(TERMINAL_FILE_ORIG)"
   ]
  },
  {
   "cell_type": "code",
   "execution_count": null,
   "metadata": {},
   "outputs": [],
   "source": [
    "id_to_parse = {}\n",
    "for i in range(len(rules)):    \n",
    "    grammar_fn = open('dep_grammar_spec.irtg', 'w') \n",
    "    grammar.generate_grammar(GRAMMAR_FILE, rules[i], grammar_fn)\n",
    "    grammar.generate_terminals(TERMINAL_FILE, grammar_fn)\n",
    "    grammar_fn.close()\n",
    "    set_parse(\"ewt_ones\", graphs[i])\n",
    "    !java -Xmx8G -cp /home/kovacs/projects/alto/build/libs/alto-2.3.6-SNAPSHOT-all.jar de.up.ling.irtg.script.ParsingEvaluator ewt_ones -g dep_grammar_spec.irtg -I ud -O string=toString -o surface_eval_ewt\n",
    "    parse = get_parse(\"surface_eval_ewt\")\n",
    "    id_to_parse[i] = parse"
   ]
  },
  {
   "cell_type": "code",
   "execution_count": 9,
   "metadata": {},
   "outputs": [],
   "source": [
    "with open(\"result_parse\", \"w\") as f:\n",
    "    for i in id_to_parse:\n",
    "        f.write(sentences[i] + \"\\n\")\n",
    "        f.write(graphs[i] + \"\\n\")\n",
    "        f.write(str(id_to_parse[i]) + \"\\n\")\n",
    "        f.write(\"\\n\")"
   ]
  },
  {
   "cell_type": "code",
   "execution_count": null,
   "metadata": {},
   "outputs": [],
   "source": [
    "grammar_fn = open('dep_grammar_spec.irtg', 'w') \n",
    "grammar.generate_grammar(GRAMMAR_FILE, rules[39], grammar_fn)\n",
    "grammar.generate_terminals(TERMINAL_FILE, grammar_fn)\n",
    "grammar_fn.close()"
   ]
  },
  {
   "cell_type": "code",
   "execution_count": null,
   "metadata": {},
   "outputs": [],
   "source": []
  }
 ],
 "metadata": {
  "kernelspec": {
   "display_name": "Python 3",
   "language": "python",
   "name": "python3"
  },
  "language_info": {
   "codemirror_mode": {
    "name": "ipython",
    "version": 3
   },
   "file_extension": ".py",
   "mimetype": "text/x-python",
   "name": "python",
   "nbconvert_exporter": "python",
   "pygments_lexer": "ipython3",
   "version": "3.7.3"
  }
 },
 "nbformat": 4,
 "nbformat_minor": 2
}
